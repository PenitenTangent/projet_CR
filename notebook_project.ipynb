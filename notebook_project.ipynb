{
 "cells": [
  {
   "cell_type": "markdown",
   "metadata": {},
   "source": [
    "## Projet connaissances et raisonnement"
   ]
  },
  {
   "cell_type": "markdown",
   "metadata": {},
   "source": [
    "## Modélisation du problème\n",
    "\n",
    "Nous voulons trouver **un créneau optimal** pour une réunion en fonction des disponibilités des participants.\n"
   ]
  },
  {
   "cell_type": "code",
   "execution_count": 25,
   "metadata": {},
   "outputs": [],
   "source": [
    "import os\n",
    "import csv\n",
    "from itertools import combinations\n",
    "\n",
    "# Configuration\n",
    "SCHEDULES_DIR = \"schedules\"      # Dossier des emplois du temps\n",
    "DURATION = 30                  # Durée en minutes (15, 30, 45, 60)\n",
    "GOPHERSAT_PATH = \"C:/Users/Arij/Desktop/cr/gophersatfolder/gophersat.exe\"  # chemin vers le solveur"
   ]
  },
  {
   "cell_type": "markdown",
   "metadata": {},
   "source": [
    "## 1. Lecture des emplois du temps"
   ]
  },
  {
   "cell_type": "code",
   "execution_count": 26,
   "metadata": {},
   "outputs": [],
   "source": [
    "def lire_emplois_du_temps(dossier):\n",
    "    \"\"\"\n",
    "    Lit tous les fichiers CSV dans le dossier et retourne :\n",
    "      - emplois : un dictionnaire où chaque clé correspond à un participant et\n",
    "                  la valeur est un dictionnaire {jour: {horaire: statut}}\n",
    "                  Le statut vaut 0 si le participant est disponible, 1 sinon.\n",
    "      - jours : la liste des jours considérés\n",
    "      - horaires : la liste des horaires (extrait du header des CSV)\n",
    "    \"\"\"\n",
    "    fichiers = [f for f in os.listdir(dossier) if f.endswith(\".csv\")]\n",
    "    if not fichiers:\n",
    "        raise FileNotFoundError(\"Aucun fichier CSV trouvé dans le dossier\")\n",
    "\n",
    "    jours = [\"Lundi\", \"Mardi\", \"Mercredi\", \"Jeudi\", \"Vendredi\"]\n",
    "    emplois = {}  # clé : identifiant du participant, valeur : emploi du temps\n",
    "    horaires = None\n",
    "\n",
    "    for fichier in fichiers:\n",
    "        with open(os.path.join(dossier, fichier), 'r', encoding='utf-8') as f:\n",
    "            lecteur = csv.reader(f)\n",
    "            header = next(lecteur)\n",
    "            # La première colonne est \"Jour\", le reste sont les horaires\n",
    "            if horaires is None:\n",
    "                horaires = header[1:]\n",
    "            emploi = {}  # emploi du temps pour ce participant\n",
    "            for ligne in lecteur:\n",
    "                jour = ligne[0]\n",
    "                if jour not in jours:\n",
    "                    continue\n",
    "                # Pour chaque jour, créer un dictionnaire {horaire: statut}\n",
    "                emploi[jour] = {}\n",
    "                for i, statut in enumerate(ligne[1:]):\n",
    "                    # Convertir le statut en entier (0 pour libre, 1 pour occupé)\n",
    "                    emploi[jour][horaires[i]] = int(statut)\n",
    "            # On peut utiliser le nom du fichier comme identifiant du participant\n",
    "            emplois[fichier] = emploi\n",
    "\n",
    "    return emplois, jours, horaires"
   ]
  },
  {
   "cell_type": "markdown",
   "metadata": {},
   "source": [
    "## 2. Génération du fichier CNF"
   ]
  },
  {
   "cell_type": "code",
   "execution_count": 27,
   "metadata": {},
   "outputs": [],
   "source": [
    "def generer_fichier_cnf_complet(emplois, jours, horaires, duree):\n",
    "    \"\"\"\n",
    "    Génère un fichier CNF (au format DIMACS) pour la planification d'une réunion.\n",
    "    \n",
    "    Modélisation :\n",
    "      - Pour chaque participant p, jour d et horaire s, on définit une variable X_{p,d,s}.\n",
    "      - Pour chaque candidat de réunion (début de bloc) Y_{d,s}, pour s tel que le bloc de longueur m (duree//15)\n",
    "        tient dans la liste des horaires, on définit une variable Y_{d,s}.\n",
    "    \n",
    "    Contraintes :\n",
    "      1. Exactement un bloc de réunion est choisi (variable Y) :\n",
    "           - Au moins un bloc choisi.\n",
    "           - Pas deux blocs simultanément (exclusion mutuelle).\n",
    "      2. Lien entre Y et X :\n",
    "           Pour chaque candidat Y_{d,s} et pour chaque participant p,\n",
    "           et pour chaque créneau du bloc (s, s+1, ..., s+m-1), on impose :\n",
    "             Y_{d,s} -> X_{p,d,t}   (soit, en CNF : -Y_{d,s} v X_{p,d,t})\n",
    "      3. Disponibilité des participants :\n",
    "           Pour chaque participant p, jour d, horaire s, si le participant est occupé\n",
    "           (selon l'emploi du temps), alors X_{p,d,s} est forcé à faux.\n",
    "    \"\"\"\n",
    "    m = duree // 15  # Nombre de créneaux consécutifs requis\n",
    "\n",
    "    clauses = []\n",
    "    next_var = 1\n",
    "\n",
    "    # 1. Création des variables X : X_vars[(participant, jour, horaire)]\n",
    "    X_vars = {}\n",
    "    for participant in emplois:\n",
    "        for d in jours:\n",
    "            for t in horaires:\n",
    "                X_vars[(participant, d, t)] = next_var\n",
    "                next_var += 1\n",
    "\n",
    "    # 2. Création des variables Y : Y_vars[(jour, horaire_debut)]\n",
    "    Y_vars = {}\n",
    "    for d in jours:\n",
    "        # Seul les candidats qui permettent d'avoir m créneaux consécutifs\n",
    "        for i in range(len(horaires) - m + 1):\n",
    "            t_debut = horaires[i]\n",
    "            Y_vars[(d, t_debut)] = next_var\n",
    "            next_var += 1\n",
    "    \n",
    "\n",
    "    # ======================\n",
    "    # Contrainte (1) : Exactement un bloc réunion est choisi (variables Y)\n",
    "    # a) Au moins un bloc choisi :\n",
    "    clause = \" \".join(str(Y_vars[(d, t)]) for (d, t) in Y_vars) + \" 0\"\n",
    "    clauses.append(clause)\n",
    "    # b) Au plus un bloc choisi : pour chaque paire distincte, pas de double sélection\n",
    "    for (d1, t1), (d2, t2) in combinations(Y_vars.keys(), 2):\n",
    "        clauses.append(f\"-{Y_vars[(d1, t1)]} -{Y_vars[(d2, t2)]} 0\")\n",
    "\n",
    "    # ======================\n",
    "    # Contrainte (2) : Lien entre Y et X\n",
    "    # Si le bloc Y_{d,t_debut} est choisi, alors pour chaque participant et pour chaque créneau\n",
    "    # du bloc (de t_debut à t_debut+m-1), le participant doit être disponible (X_{p,d,t} doit être vrai)\n",
    "    for (d, t_debut) in Y_vars:\n",
    "        start_index = horaires.index(t_debut)\n",
    "        # On s'assure que le bloc s'étend sur m créneaux\n",
    "        for participant in emplois:\n",
    "            for j in range(m):\n",
    "                t = horaires[start_index + j]\n",
    "                # Clause: -Y_{d,t_debut} v X_{p,d,t}\n",
    "                clauses.append(f\"-{Y_vars[(d, t_debut)]} {X_vars[(participant, d, t)]} 0\")\n",
    "\n",
    "    # ======================\n",
    "    # Contrainte (3) : Disponibilité des participants (selon leur emploi du temps)\n",
    "    # Pour chaque participant, jour, horaire, si le participant est occupé (statut == 1)\n",
    "    # alors la variable X_{p,d,t} est forcée à faux\n",
    "    for participant, emploi in emplois.items():\n",
    "        for d in jours:\n",
    "            for t in horaires:\n",
    "                if emploi[d][t] == 1:\n",
    "                    # Le participant n'est pas disponible à ce créneau\n",
    "                    clauses.append(f\"-{X_vars[(participant, d, t)]} 0\")\n",
    "                    \n",
    "    # ======================\n",
    "    # Contrainte (4) : Interdiction des blocs traversant la pause de midi\n",
    "    for (d, t_debut) in Y_vars:\n",
    "        start_index = horaires.index(t_debut)\n",
    "        # Vérifier si le bloc dépasse la pause de midi\n",
    "        for j in range(m):\n",
    "            t = horaires[start_index + j]\n",
    "            if horaires[start_index] < \"12:00\" and t >= \"14:00\":\n",
    "                clauses.append(f\"-{Y_vars[(d, t_debut)]} 0\")\n",
    "                break  # Pas besoin de vérifier les autres créneaux, le bloc est interdit\n",
    "\n",
    "    # ======================\n",
    "    # Écriture du fichier CNF\n",
    "    total_vars = next_var - 1\n",
    "    total_clauses = len(clauses)\n",
    "    with open(\"reunion.cnf\", \"w\") as f:\n",
    "        f.write(f\"p cnf {total_vars} {total_clauses}\\n\")\n",
    "        for clause in clauses:\n",
    "            f.write(clause + \"\\n\")\n",
    "\n",
    "    print(f\"Fichier CNF généré avec {total_vars} variables et {total_clauses} clauses.\")\n",
    "    return True, Y_vars"
   ]
  },
  {
   "cell_type": "markdown",
   "metadata": {},
   "source": [
    "## 3. Résolution et interprétation"
   ]
  },
  {
   "cell_type": "code",
   "execution_count": 28,
   "metadata": {},
   "outputs": [],
   "source": [
    "def resoudre_toutes_les_solutions(Y_vars):\n",
    "    solutions = []\n",
    "    \n",
    "    while True:\n",
    "        os.system(f\"{GOPHERSAT_PATH} reunion.cnf > resultat.txt\")\n",
    "\n",
    "        solution = []\n",
    "        with open(\"resultat.txt\", \"r\") as f:\n",
    "            for ligne in f:\n",
    "                if ligne.startswith(\"v \"):\n",
    "                    solution = list(map(int, ligne.strip().split()[1:-1]))\n",
    "\n",
    "        if not solution:\n",
    "            print(\"✅ Plus aucune solution trouvée, arrêt de l'exploration.\")\n",
    "            break\n",
    "\n",
    "        print(f\"🟢 Nouvelle solution trouvée : {solution}\")\n",
    "\n",
    "        # Trouver les créneaux activés\n",
    "        reunion_cree = [var for var in solution if var > 0 and var in Y_vars.values()]\n",
    "        if reunion_cree:\n",
    "            print(\"📅 Créneaux sélectionnés pour la réunion :\")\n",
    "            for (jour, horaire), var in Y_vars.items():\n",
    "                if var in reunion_cree:\n",
    "                    print(f\" - {jour} à {horaire}\")\n",
    "        else:\n",
    "            print(\"❌ Aucun créneau de réunion trouvé dans cette solution.\")\n",
    "\n",
    "        solutions.append(solution)\n",
    "\n",
    "        # Exclusion de la solution trouvée pour chercher la suivante\n",
    "    \n",
    "        with open(\"reunion.cnf\", \"a\") as f:\n",
    "            f.write(\" \".join(f\"-{var}\" for var in reunion_cree) + \" 0\\n\")\n",
    "\n",
    "    return  \n"
   ]
  },
  {
   "cell_type": "markdown",
   "metadata": {},
   "source": [
    "## 4. Exécution principale"
   ]
  },
  {
   "cell_type": "code",
   "execution_count": 29,
   "metadata": {},
   "outputs": [
    {
     "name": "stdout",
     "output_type": "stream",
     "text": [
      "Créneaux occupés chargés\n",
      "Fichier CNF généré avec 595 variables et 7763 clauses.\n"
     ]
    }
   ],
   "source": [
    "emplois, jours, horaires = lire_emplois_du_temps(SCHEDULES_DIR)\n",
    "print(f\"Créneaux occupés chargés\")\n",
    "\n",
    "success, Y_vars = generer_fichier_cnf_complet(emplois, jours, horaires, DURATION)\n"
   ]
  },
  {
   "cell_type": "code",
   "execution_count": 30,
   "metadata": {},
   "outputs": [
    {
     "name": "stdout",
     "output_type": "stream",
     "text": [
      "🟢 Nouvelle solution trouvée : [-1, 2, 3, -4, -5, -6, -7, -8, -9, -10, -11, -12, -13, -14, -15, -16, -17, -18, -19, -20, -21, -22, -23, -24, -25, -26, -27, -28, -29, -30, -31, -32, -33, -34, -35, -36, -37, -38, -39, -40, -41, -42, -43, -44, -45, -46, -47, -48, -49, -50, -51, -52, -53, -54, -55, -56, -57, -58, -59, -60, -61, -62, -63, -64, -65, -66, -67, -68, -69, -70, -71, -72, -73, -74, -75, -76, -77, -78, -79, -80, -81, -82, -83, -84, -85, -86, -87, -88, -89, -90, -91, -92, -93, -94, -95, -96, -97, -98, -99, -100, -101, -102, -103, -104, -105, -106, -107, -108, -109, -110, -111, -112, -113, -114, -115, -116, -117, -118, -119, -120, -121, 122, 123, -124, -125, -126, -127, -128, -129, -130, -131, -132, -133, -134, -135, -136, -137, -138, -139, -140, -141, -142, -143, -144, -145, -146, -147, -148, -149, -150, -151, -152, -153, -154, -155, -156, -157, -158, -159, -160, -161, -162, -163, -164, -165, -166, -167, -168, -169, -170, -171, -172, -173, -174, -175, -176, -177, -178, -179, -180, -181, -182, -183, -184, -185, -186, -187, -188, -189, -190, -191, -192, -193, -194, -195, -196, -197, -198, -199, -200, -201, -202, -203, -204, -205, -206, -207, -208, -209, -210, -211, -212, -213, -214, -215, -216, -217, -218, -219, -220, -221, -222, -223, -224, -225, -226, -227, -228, -229, -230, -231, -232, -233, -234, -235, -236, -237, -238, -239, -240, -241, 242, 243, -244, -245, -246, -247, -248, -249, -250, -251, -252, -253, -254, -255, -256, -257, -258, -259, -260, -261, -262, -263, -264, -265, -266, -267, -268, -269, -270, -271, -272, -273, -274, -275, -276, -277, -278, -279, -280, -281, -282, -283, -284, -285, -286, -287, -288, -289, -290, -291, -292, -293, -294, -295, -296, -297, -298, -299, -300, -301, -302, -303, -304, -305, -306, -307, -308, -309, -310, -311, -312, -313, -314, -315, -316, -317, -318, -319, -320, -321, -322, -323, -324, -325, -326, -327, -328, -329, -330, -331, -332, -333, -334, -335, -336, -337, -338, -339, -340, -341, -342, -343, -344, -345, -346, -347, -348, -349, -350, -351, -352, -353, -354, -355, -356, -357, -358, -359, -360, -361, 362, 363, -364, -365, -366, -367, -368, -369, -370, -371, -372, -373, -374, -375, -376, -377, -378, -379, -380, -381, -382, -383, -384, -385, -386, -387, -388, -389, -390, -391, -392, -393, -394, -395, -396, -397, -398, -399, -400, -401, -402, -403, -404, -405, -406, -407, -408, -409, -410, -411, -412, -413, -414, -415, -416, -417, -418, -419, -420, -421, -422, -423, -424, -425, -426, -427, -428, -429, -430, -431, -432, -433, -434, -435, -436, -437, -438, -439, -440, -441, -442, -443, -444, -445, -446, -447, -448, -449, -450, -451, -452, -453, -454, -455, -456, -457, -458, -459, -460, -461, -462, -463, -464, -465, -466, -467, -468, -469, -470, -471, -472, -473, -474, -475, -476, -477, -478, -479, -480, -481, 482, -483, -484, -485, -486, -487, -488, -489, -490, -491, -492, -493, -494, -495, -496, -497, -498, -499, -500, -501, -502, -503, -504, -505, -506, -507, -508, -509, -510, -511, -512, -513, -514, -515, -516, -517, -518, -519, -520, -521, -522, -523, -524, -525, -526, -527, -528, -529, -530, -531, -532, -533, -534, -535, -536, -537, -538, -539, -540, -541, -542, -543, -544, -545, -546, -547, -548, -549, -550, -551, -552, -553, -554, -555, -556, -557, -558, -559, -560, -561, -562, -563, -564, -565, -566, -567, -568, -569, -570, -571, -572, -573, -574, -575, -576, -577, -578, -579, -580, -581, -582, -583, -584, -585, -586, -587, -588, -589, -590, -591, -592, -593, -594, -595]\n",
      "📅 Créneaux sélectionnés pour la réunion :\n",
      " - Lundi à 9:15\n",
      "🟢 Nouvelle solution trouvée : [1, 2, -3, -4, -5, -6, -7, -8, -9, -10, -11, -12, -13, -14, -15, -16, -17, -18, -19, -20, -21, -22, -23, -24, -25, -26, -27, -28, -29, -30, -31, -32, -33, -34, -35, -36, -37, -38, -39, -40, -41, -42, -43, -44, -45, -46, -47, -48, -49, -50, -51, -52, -53, -54, -55, -56, -57, -58, -59, -60, -61, -62, -63, -64, -65, -66, -67, -68, -69, -70, -71, -72, -73, -74, -75, -76, -77, -78, -79, -80, -81, -82, -83, -84, -85, -86, -87, -88, -89, -90, -91, -92, -93, -94, -95, -96, -97, -98, -99, -100, -101, -102, -103, -104, -105, -106, -107, -108, -109, -110, -111, -112, -113, -114, -115, -116, -117, -118, -119, -120, 121, 122, -123, -124, -125, -126, -127, -128, -129, -130, -131, -132, -133, -134, -135, -136, -137, -138, -139, -140, -141, -142, -143, -144, -145, -146, -147, -148, -149, -150, -151, -152, -153, -154, -155, -156, -157, -158, -159, -160, -161, -162, -163, -164, -165, -166, -167, -168, -169, -170, -171, -172, -173, -174, -175, -176, -177, -178, -179, -180, -181, -182, -183, -184, -185, -186, -187, -188, -189, -190, -191, -192, -193, -194, -195, -196, -197, -198, -199, -200, -201, -202, -203, -204, -205, -206, -207, -208, -209, -210, -211, -212, -213, -214, -215, -216, -217, -218, -219, -220, -221, -222, -223, -224, -225, -226, -227, -228, -229, -230, -231, -232, -233, -234, -235, -236, -237, -238, -239, -240, 241, 242, -243, -244, -245, -246, -247, -248, -249, -250, -251, -252, -253, -254, -255, -256, -257, -258, -259, -260, -261, -262, -263, -264, -265, -266, -267, -268, -269, -270, -271, -272, -273, -274, -275, -276, -277, -278, -279, -280, -281, -282, -283, -284, -285, -286, -287, -288, -289, -290, -291, -292, -293, -294, -295, -296, -297, -298, -299, -300, -301, -302, -303, -304, -305, -306, -307, -308, -309, -310, -311, -312, -313, -314, -315, -316, -317, -318, -319, -320, -321, -322, -323, -324, -325, -326, -327, -328, -329, -330, -331, -332, -333, -334, -335, -336, -337, -338, -339, -340, -341, -342, -343, -344, -345, -346, -347, -348, -349, -350, -351, -352, -353, -354, -355, -356, -357, -358, -359, -360, 361, 362, -363, -364, -365, -366, -367, -368, -369, -370, -371, -372, -373, -374, -375, -376, -377, -378, -379, -380, -381, -382, -383, -384, -385, -386, -387, -388, -389, -390, -391, -392, -393, -394, -395, -396, -397, -398, -399, -400, -401, -402, -403, -404, -405, -406, -407, -408, -409, -410, -411, -412, -413, -414, -415, -416, -417, -418, -419, -420, -421, -422, -423, -424, -425, -426, -427, -428, -429, -430, -431, -432, -433, -434, -435, -436, -437, -438, -439, -440, -441, -442, -443, -444, -445, -446, -447, -448, -449, -450, -451, -452, -453, -454, -455, -456, -457, -458, -459, -460, -461, -462, -463, -464, -465, -466, -467, -468, -469, -470, -471, -472, -473, -474, -475, -476, -477, -478, -479, -480, 481, -482, -483, -484, -485, -486, -487, -488, -489, -490, -491, -492, -493, -494, -495, -496, -497, -498, -499, -500, -501, -502, -503, -504, -505, -506, -507, -508, -509, -510, -511, -512, -513, -514, -515, -516, -517, -518, -519, -520, -521, -522, -523, -524, -525, -526, -527, -528, -529, -530, -531, -532, -533, -534, -535, -536, -537, -538, -539, -540, -541, -542, -543, -544, -545, -546, -547, -548, -549, -550, -551, -552, -553, -554, -555, -556, -557, -558, -559, -560, -561, -562, -563, -564, -565, -566, -567, -568, -569, -570, -571, -572, -573, -574, -575, -576, -577, -578, -579, -580, -581, -582, -583, -584, -585, -586, -587, -588, -589, -590, -591, -592, -593, -594, -595]\n",
      "📅 Créneaux sélectionnés pour la réunion :\n",
      " - Lundi à 9:00\n",
      "✅ Plus aucune solution trouvée, arrêt de l'exploration.\n"
     ]
    }
   ],
   "source": [
    "resoudre_toutes_les_solutions(Y_vars)"
   ]
  }
 ],
 "metadata": {
  "kernelspec": {
   "display_name": "i2dl",
   "language": "python",
   "name": "python3"
  },
  "language_info": {
   "codemirror_mode": {
    "name": "ipython",
    "version": 3
   },
   "file_extension": ".py",
   "mimetype": "text/x-python",
   "name": "python",
   "nbconvert_exporter": "python",
   "pygments_lexer": "ipython3",
   "version": "3.10.11"
  }
 },
 "nbformat": 4,
 "nbformat_minor": 2
}
